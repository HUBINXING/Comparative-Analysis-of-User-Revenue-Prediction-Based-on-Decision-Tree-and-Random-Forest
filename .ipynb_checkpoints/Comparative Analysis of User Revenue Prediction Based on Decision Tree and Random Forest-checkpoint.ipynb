{
 "cells": [
  {
   "cell_type": "markdown",
   "id": "ff1d05c7",
   "metadata": {},
   "source": [
    "# Comparative Analysis of User Revenue Prediction Based on Decision Tree and Random Forest"
   ]
  },
  {
   "cell_type": "code",
   "execution_count": 2,
   "id": "987f4e80",
   "metadata": {},
   "outputs": [],
   "source": [
    "import pandas as pd\n",
    "import time\n",
    "from sklearn.tree import DecisionTreeClassifier\n",
    "from sklearn.metrics import classification_report, accuracy_score\n",
    "from sklearn.preprocessing import OneHotEncoder, StandardScaler, KBinsDiscretizer\n",
    "from sklearn.compose import ColumnTransformer\n",
    "from sklearn.pipeline import Pipeline\n",
    "from sklearn.impute import SimpleImputer\n",
    "from imblearn.over_sampling import SMOTE\n",
    "from sklearn.model_selection import train_test_split\n",
    "from sklearn.model_selection import GridSearchCV\n",
    "from sklearn.metrics import accuracy_score, classification_report\n",
    "from sklearn.ensemble import RandomForestClassifier\n",
    "from sklearn.model_selection import RandomizedSearchCV\n",
    "from scipy.stats import randint"
   ]
  },
  {
   "cell_type": "markdown",
   "id": "ae152dcb",
   "metadata": {},
   "source": [
    "## data loading"
   ]
  },
  {
   "cell_type": "code",
   "execution_count": 3,
   "id": "ff993a98",
   "metadata": {},
   "outputs": [
    {
     "name": "stdout",
     "output_type": "stream",
     "text": [
      "   age         workclass  fnlwgt  education  education-num  \\\n",
      "0   39         State-gov   77516  Bachelors             13   \n",
      "1   50  Self-emp-not-inc   83311  Bachelors             13   \n",
      "2   38           Private  215646    HS-grad              9   \n",
      "3   53           Private  234721       11th              7   \n",
      "4   28           Private  338409  Bachelors             13   \n",
      "\n",
      "       marital-status         occupation   relationship   race     sex  \\\n",
      "0       Never-married       Adm-clerical  Not-in-family  White    Male   \n",
      "1  Married-civ-spouse    Exec-managerial        Husband  White    Male   \n",
      "2            Divorced  Handlers-cleaners  Not-in-family  White    Male   \n",
      "3  Married-civ-spouse  Handlers-cleaners        Husband  Black    Male   \n",
      "4  Married-civ-spouse     Prof-specialty           Wife  Black  Female   \n",
      "\n",
      "   capital-gain  capital-loss  hours-per-week native-country income  \n",
      "0          2174             0              40  United-States  <=50K  \n",
      "1             0             0              13  United-States  <=50K  \n",
      "2             0             0              40  United-States  <=50K  \n",
      "3             0             0              40  United-States  <=50K  \n",
      "4             0             0              40           Cuba  <=50K  \n",
      "   age  workclass  fnlwgt     education  education-num      marital-status  \\\n",
      "0   25    Private  226802          11th              7       Never-married   \n",
      "1   38    Private   89814       HS-grad              9  Married-civ-spouse   \n",
      "2   28  Local-gov  336951    Assoc-acdm             12  Married-civ-spouse   \n",
      "3   44    Private  160323  Some-college             10  Married-civ-spouse   \n",
      "4   18        NaN  103497  Some-college             10       Never-married   \n",
      "\n",
      "          occupation relationship   race     sex  capital-gain  capital-loss  \\\n",
      "0  Machine-op-inspct    Own-child  Black    Male             0             0   \n",
      "1    Farming-fishing      Husband  White    Male             0             0   \n",
      "2    Protective-serv      Husband  White    Male             0             0   \n",
      "3  Machine-op-inspct      Husband  Black    Male          7688             0   \n",
      "4                NaN    Own-child  White  Female             0             0   \n",
      "\n",
      "   hours-per-week native-country  income  \n",
      "0              40  United-States  <=50K.  \n",
      "1              50  United-States  <=50K.  \n",
      "2              40  United-States   >50K.  \n",
      "3              40  United-States   >50K.  \n",
      "4              30  United-States  <=50K.  \n"
     ]
    }
   ],
   "source": [
    "column_names = ['age', 'workclass', 'fnlwgt', 'education', 'education-num', 'marital-status', 'occupation', \n",
    "                'relationship', 'race', 'sex', 'capital-gain', 'capital-loss', 'hours-per-week', 'native-country', 'income']\n",
    "train_data = pd.read_csv('Census Income Data Set/adult.data', names=column_names, sep=',\\s', na_values='?', engine='python')\n",
    "test_data = pd.read_csv('Census Income Data Set/adult.test', names=column_names, sep=',\\s', na_values='?', skiprows=1, engine='python')\n",
    "\n",
    "print(train_data.head())\n",
    "print(test_data.head())"
   ]
  },
  {
   "cell_type": "markdown",
   "id": "69421b64",
   "metadata": {},
   "source": [
    "## data preprocessing"
   ]
  },
  {
   "cell_type": "code",
   "execution_count": 4,
   "id": "b473af63",
   "metadata": {},
   "outputs": [],
   "source": [
    "train_data['income'] = train_data['income'].str.strip().replace({'<=50K': 0, '>50K': 1})\n",
    "test_data['income'] = test_data['income'].str.strip().str.replace('.', '', regex=False).replace({'<=50K': 0, '>50K': 1})\n",
    "\n",
    "X_train = train_data.drop('income', axis=1)\n",
    "y_train = train_data['income']\n",
    "X_test = test_data.drop('income', axis=1)\n",
    "y_test = test_data['income']\n",
    "\n",
    "numeric_features = ['age', 'fnlwgt', 'education-num', 'capital-gain', 'capital-loss', 'hours-per-week']\n",
    "categorical_features = ['workclass', 'education', 'marital-status', 'occupation', \n",
    "                        'relationship', 'race', 'sex', 'native-country']\n",
    "\n",
    "preprocessor = ColumnTransformer(\n",
    "    transformers=[\n",
    "        ('num', Pipeline(steps=[\n",
    "            ('imputer', SimpleImputer(strategy='median')),\n",
    "            ('scaler', StandardScaler())  \n",
    "        ]), numeric_features),\n",
    "\n",
    "        ('cat', Pipeline(steps=[\n",
    "            ('imputer', SimpleImputer(strategy='most_frequent')),\n",
    "            ('onehot', OneHotEncoder(handle_unknown='ignore'))\n",
    "        ]), categorical_features)\n",
    "    ])\n",
    "\n",
    "X_train_preprocessed = preprocessor.fit_transform(X_train)\n",
    "X_test_preprocessed = preprocessor.transform(X_test)\n",
    "\n",
    "smote = SMOTE(random_state=42)\n",
    "X_train_res, y_train_res = smote.fit_resample(X_train_preprocessed, y_train)\n"
   ]
  },
  {
   "cell_type": "markdown",
   "id": "dc452179",
   "metadata": {},
   "source": [
    "## decision tree"
   ]
  },
  {
   "cell_type": "code",
   "execution_count": 5,
   "id": "26a2a408",
   "metadata": {
    "scrolled": false
   },
   "outputs": [
    {
     "name": "stdout",
     "output_type": "stream",
     "text": [
      "Training completed in 67.44 seconds.\n",
      "Parameters: {'max_depth': 15, 'max_features': 'sqrt', 'min_samples_leaf': 1, 'min_samples_split': 5} => Accuracy: 0.8272\n",
      "Parameters: {'max_depth': 15, 'max_features': 'sqrt', 'min_samples_leaf': 1, 'min_samples_split': 10} => Accuracy: 0.8249\n",
      "Parameters: {'max_depth': 15, 'max_features': 'sqrt', 'min_samples_leaf': 1, 'min_samples_split': 15} => Accuracy: 0.8217\n",
      "Parameters: {'max_depth': 15, 'max_features': 'sqrt', 'min_samples_leaf': 3, 'min_samples_split': 5} => Accuracy: 0.8256\n",
      "Parameters: {'max_depth': 15, 'max_features': 'sqrt', 'min_samples_leaf': 3, 'min_samples_split': 10} => Accuracy: 0.8269\n",
      "Parameters: {'max_depth': 15, 'max_features': 'sqrt', 'min_samples_leaf': 3, 'min_samples_split': 15} => Accuracy: 0.8191\n",
      "Parameters: {'max_depth': 15, 'max_features': 'sqrt', 'min_samples_leaf': 5, 'min_samples_split': 5} => Accuracy: 0.8209\n",
      "Parameters: {'max_depth': 15, 'max_features': 'sqrt', 'min_samples_leaf': 5, 'min_samples_split': 10} => Accuracy: 0.8209\n",
      "Parameters: {'max_depth': 15, 'max_features': 'sqrt', 'min_samples_leaf': 5, 'min_samples_split': 15} => Accuracy: 0.8211\n",
      "Parameters: {'max_depth': 15, 'max_features': 'log2', 'min_samples_leaf': 1, 'min_samples_split': 5} => Accuracy: 0.8113\n",
      "Parameters: {'max_depth': 15, 'max_features': 'log2', 'min_samples_leaf': 1, 'min_samples_split': 10} => Accuracy: 0.8111\n",
      "Parameters: {'max_depth': 15, 'max_features': 'log2', 'min_samples_leaf': 1, 'min_samples_split': 15} => Accuracy: 0.8224\n",
      "Parameters: {'max_depth': 15, 'max_features': 'log2', 'min_samples_leaf': 3, 'min_samples_split': 5} => Accuracy: 0.8118\n",
      "Parameters: {'max_depth': 15, 'max_features': 'log2', 'min_samples_leaf': 3, 'min_samples_split': 10} => Accuracy: 0.8127\n",
      "Parameters: {'max_depth': 15, 'max_features': 'log2', 'min_samples_leaf': 3, 'min_samples_split': 15} => Accuracy: 0.8075\n",
      "Parameters: {'max_depth': 15, 'max_features': 'log2', 'min_samples_leaf': 5, 'min_samples_split': 5} => Accuracy: 0.8056\n",
      "Parameters: {'max_depth': 15, 'max_features': 'log2', 'min_samples_leaf': 5, 'min_samples_split': 10} => Accuracy: 0.8056\n",
      "Parameters: {'max_depth': 15, 'max_features': 'log2', 'min_samples_leaf': 5, 'min_samples_split': 15} => Accuracy: 0.8142\n",
      "Parameters: {'max_depth': 15, 'max_features': None, 'min_samples_leaf': 1, 'min_samples_split': 5} => Accuracy: 0.8555\n",
      "Parameters: {'max_depth': 15, 'max_features': None, 'min_samples_leaf': 1, 'min_samples_split': 10} => Accuracy: 0.8552\n",
      "Parameters: {'max_depth': 15, 'max_features': None, 'min_samples_leaf': 1, 'min_samples_split': 15} => Accuracy: 0.8536\n",
      "Parameters: {'max_depth': 15, 'max_features': None, 'min_samples_leaf': 3, 'min_samples_split': 5} => Accuracy: 0.8555\n",
      "Parameters: {'max_depth': 15, 'max_features': None, 'min_samples_leaf': 3, 'min_samples_split': 10} => Accuracy: 0.8547\n",
      "Parameters: {'max_depth': 15, 'max_features': None, 'min_samples_leaf': 3, 'min_samples_split': 15} => Accuracy: 0.8532\n",
      "Parameters: {'max_depth': 15, 'max_features': None, 'min_samples_leaf': 5, 'min_samples_split': 5} => Accuracy: 0.8529\n",
      "Parameters: {'max_depth': 15, 'max_features': None, 'min_samples_leaf': 5, 'min_samples_split': 10} => Accuracy: 0.8529\n",
      "Parameters: {'max_depth': 15, 'max_features': None, 'min_samples_leaf': 5, 'min_samples_split': 15} => Accuracy: 0.8529\n",
      "Parameters: {'max_depth': 20, 'max_features': 'sqrt', 'min_samples_leaf': 1, 'min_samples_split': 5} => Accuracy: 0.8435\n",
      "Parameters: {'max_depth': 20, 'max_features': 'sqrt', 'min_samples_leaf': 1, 'min_samples_split': 10} => Accuracy: 0.8352\n",
      "Parameters: {'max_depth': 20, 'max_features': 'sqrt', 'min_samples_leaf': 1, 'min_samples_split': 15} => Accuracy: 0.8378\n",
      "Parameters: {'max_depth': 20, 'max_features': 'sqrt', 'min_samples_leaf': 3, 'min_samples_split': 5} => Accuracy: 0.8318\n",
      "Parameters: {'max_depth': 20, 'max_features': 'sqrt', 'min_samples_leaf': 3, 'min_samples_split': 10} => Accuracy: 0.8333\n",
      "Parameters: {'max_depth': 20, 'max_features': 'sqrt', 'min_samples_leaf': 3, 'min_samples_split': 15} => Accuracy: 0.8320\n",
      "Parameters: {'max_depth': 20, 'max_features': 'sqrt', 'min_samples_leaf': 5, 'min_samples_split': 5} => Accuracy: 0.8325\n",
      "Parameters: {'max_depth': 20, 'max_features': 'sqrt', 'min_samples_leaf': 5, 'min_samples_split': 10} => Accuracy: 0.8325\n",
      "Parameters: {'max_depth': 20, 'max_features': 'sqrt', 'min_samples_leaf': 5, 'min_samples_split': 15} => Accuracy: 0.8278\n",
      "Parameters: {'max_depth': 20, 'max_features': 'log2', 'min_samples_leaf': 1, 'min_samples_split': 5} => Accuracy: 0.8270\n",
      "Parameters: {'max_depth': 20, 'max_features': 'log2', 'min_samples_leaf': 1, 'min_samples_split': 10} => Accuracy: 0.8307\n",
      "Parameters: {'max_depth': 20, 'max_features': 'log2', 'min_samples_leaf': 1, 'min_samples_split': 15} => Accuracy: 0.8279\n",
      "Parameters: {'max_depth': 20, 'max_features': 'log2', 'min_samples_leaf': 3, 'min_samples_split': 5} => Accuracy: 0.8184\n",
      "Parameters: {'max_depth': 20, 'max_features': 'log2', 'min_samples_leaf': 3, 'min_samples_split': 10} => Accuracy: 0.8209\n",
      "Parameters: {'max_depth': 20, 'max_features': 'log2', 'min_samples_leaf': 3, 'min_samples_split': 15} => Accuracy: 0.8183\n",
      "Parameters: {'max_depth': 20, 'max_features': 'log2', 'min_samples_leaf': 5, 'min_samples_split': 5} => Accuracy: 0.8155\n",
      "Parameters: {'max_depth': 20, 'max_features': 'log2', 'min_samples_leaf': 5, 'min_samples_split': 10} => Accuracy: 0.8155\n",
      "Parameters: {'max_depth': 20, 'max_features': 'log2', 'min_samples_leaf': 5, 'min_samples_split': 15} => Accuracy: 0.8200\n",
      "Parameters: {'max_depth': 20, 'max_features': None, 'min_samples_leaf': 1, 'min_samples_split': 5} => Accuracy: 0.8598\n",
      "Parameters: {'max_depth': 20, 'max_features': None, 'min_samples_leaf': 1, 'min_samples_split': 10} => Accuracy: 0.8581\n",
      "Parameters: {'max_depth': 20, 'max_features': None, 'min_samples_leaf': 1, 'min_samples_split': 15} => Accuracy: 0.8566\n",
      "Parameters: {'max_depth': 20, 'max_features': None, 'min_samples_leaf': 3, 'min_samples_split': 5} => Accuracy: 0.8577\n",
      "Parameters: {'max_depth': 20, 'max_features': None, 'min_samples_leaf': 3, 'min_samples_split': 10} => Accuracy: 0.8574\n",
      "Parameters: {'max_depth': 20, 'max_features': None, 'min_samples_leaf': 3, 'min_samples_split': 15} => Accuracy: 0.8556\n",
      "Parameters: {'max_depth': 20, 'max_features': None, 'min_samples_leaf': 5, 'min_samples_split': 5} => Accuracy: 0.8541\n",
      "Parameters: {'max_depth': 20, 'max_features': None, 'min_samples_leaf': 5, 'min_samples_split': 10} => Accuracy: 0.8541\n",
      "Parameters: {'max_depth': 20, 'max_features': None, 'min_samples_leaf': 5, 'min_samples_split': 15} => Accuracy: 0.8554\n",
      "Parameters: {'max_depth': 25, 'max_features': 'sqrt', 'min_samples_leaf': 1, 'min_samples_split': 5} => Accuracy: 0.8459\n",
      "Parameters: {'max_depth': 25, 'max_features': 'sqrt', 'min_samples_leaf': 1, 'min_samples_split': 10} => Accuracy: 0.8413\n",
      "Parameters: {'max_depth': 25, 'max_features': 'sqrt', 'min_samples_leaf': 1, 'min_samples_split': 15} => Accuracy: 0.8411\n",
      "Parameters: {'max_depth': 25, 'max_features': 'sqrt', 'min_samples_leaf': 3, 'min_samples_split': 5} => Accuracy: 0.8368\n",
      "Parameters: {'max_depth': 25, 'max_features': 'sqrt', 'min_samples_leaf': 3, 'min_samples_split': 10} => Accuracy: 0.8352\n",
      "Parameters: {'max_depth': 25, 'max_features': 'sqrt', 'min_samples_leaf': 3, 'min_samples_split': 15} => Accuracy: 0.8373\n",
      "Parameters: {'max_depth': 25, 'max_features': 'sqrt', 'min_samples_leaf': 5, 'min_samples_split': 5} => Accuracy: 0.8333\n",
      "Parameters: {'max_depth': 25, 'max_features': 'sqrt', 'min_samples_leaf': 5, 'min_samples_split': 10} => Accuracy: 0.8333\n",
      "Parameters: {'max_depth': 25, 'max_features': 'sqrt', 'min_samples_leaf': 5, 'min_samples_split': 15} => Accuracy: 0.8336\n",
      "Parameters: {'max_depth': 25, 'max_features': 'log2', 'min_samples_leaf': 1, 'min_samples_split': 5} => Accuracy: 0.8338\n",
      "Parameters: {'max_depth': 25, 'max_features': 'log2', 'min_samples_leaf': 1, 'min_samples_split': 10} => Accuracy: 0.8312\n",
      "Parameters: {'max_depth': 25, 'max_features': 'log2', 'min_samples_leaf': 1, 'min_samples_split': 15} => Accuracy: 0.8358\n",
      "Parameters: {'max_depth': 25, 'max_features': 'log2', 'min_samples_leaf': 3, 'min_samples_split': 5} => Accuracy: 0.8255\n",
      "Parameters: {'max_depth': 25, 'max_features': 'log2', 'min_samples_leaf': 3, 'min_samples_split': 10} => Accuracy: 0.8259\n",
      "Parameters: {'max_depth': 25, 'max_features': 'log2', 'min_samples_leaf': 3, 'min_samples_split': 15} => Accuracy: 0.8233\n",
      "Parameters: {'max_depth': 25, 'max_features': 'log2', 'min_samples_leaf': 5, 'min_samples_split': 5} => Accuracy: 0.8230\n",
      "Parameters: {'max_depth': 25, 'max_features': 'log2', 'min_samples_leaf': 5, 'min_samples_split': 10} => Accuracy: 0.8230\n",
      "Parameters: {'max_depth': 25, 'max_features': 'log2', 'min_samples_leaf': 5, 'min_samples_split': 15} => Accuracy: 0.8151\n",
      "Parameters: {'max_depth': 25, 'max_features': None, 'min_samples_leaf': 1, 'min_samples_split': 5} => Accuracy: 0.8581\n",
      "Parameters: {'max_depth': 25, 'max_features': None, 'min_samples_leaf': 1, 'min_samples_split': 10} => Accuracy: 0.8555\n",
      "Parameters: {'max_depth': 25, 'max_features': None, 'min_samples_leaf': 1, 'min_samples_split': 15} => Accuracy: 0.8548\n",
      "Parameters: {'max_depth': 25, 'max_features': None, 'min_samples_leaf': 3, 'min_samples_split': 5} => Accuracy: 0.8542\n",
      "Parameters: {'max_depth': 25, 'max_features': None, 'min_samples_leaf': 3, 'min_samples_split': 10} => Accuracy: 0.8540\n",
      "Parameters: {'max_depth': 25, 'max_features': None, 'min_samples_leaf': 3, 'min_samples_split': 15} => Accuracy: 0.8524\n",
      "Parameters: {'max_depth': 25, 'max_features': None, 'min_samples_leaf': 5, 'min_samples_split': 5} => Accuracy: 0.8512\n",
      "Parameters: {'max_depth': 25, 'max_features': None, 'min_samples_leaf': 5, 'min_samples_split': 10} => Accuracy: 0.8512\n",
      "Parameters: {'max_depth': 25, 'max_features': None, 'min_samples_leaf': 5, 'min_samples_split': 15} => Accuracy: 0.8521\n",
      "Parameters: {'max_depth': 30, 'max_features': 'sqrt', 'min_samples_leaf': 1, 'min_samples_split': 5} => Accuracy: 0.8427\n",
      "Parameters: {'max_depth': 30, 'max_features': 'sqrt', 'min_samples_leaf': 1, 'min_samples_split': 10} => Accuracy: 0.8450\n",
      "Parameters: {'max_depth': 30, 'max_features': 'sqrt', 'min_samples_leaf': 1, 'min_samples_split': 15} => Accuracy: 0.8406\n",
      "Parameters: {'max_depth': 30, 'max_features': 'sqrt', 'min_samples_leaf': 3, 'min_samples_split': 5} => Accuracy: 0.8377\n",
      "Parameters: {'max_depth': 30, 'max_features': 'sqrt', 'min_samples_leaf': 3, 'min_samples_split': 10} => Accuracy: 0.8340\n",
      "Parameters: {'max_depth': 30, 'max_features': 'sqrt', 'min_samples_leaf': 3, 'min_samples_split': 15} => Accuracy: 0.8395\n",
      "Parameters: {'max_depth': 30, 'max_features': 'sqrt', 'min_samples_leaf': 5, 'min_samples_split': 5} => Accuracy: 0.8375\n",
      "Parameters: {'max_depth': 30, 'max_features': 'sqrt', 'min_samples_leaf': 5, 'min_samples_split': 10} => Accuracy: 0.8375\n",
      "Parameters: {'max_depth': 30, 'max_features': 'sqrt', 'min_samples_leaf': 5, 'min_samples_split': 15} => Accuracy: 0.8318\n",
      "Parameters: {'max_depth': 30, 'max_features': 'log2', 'min_samples_leaf': 1, 'min_samples_split': 5} => Accuracy: 0.8397\n",
      "Parameters: {'max_depth': 30, 'max_features': 'log2', 'min_samples_leaf': 1, 'min_samples_split': 10} => Accuracy: 0.8382\n",
      "Parameters: {'max_depth': 30, 'max_features': 'log2', 'min_samples_leaf': 1, 'min_samples_split': 15} => Accuracy: 0.8374\n",
      "Parameters: {'max_depth': 30, 'max_features': 'log2', 'min_samples_leaf': 3, 'min_samples_split': 5} => Accuracy: 0.8265\n",
      "Parameters: {'max_depth': 30, 'max_features': 'log2', 'min_samples_leaf': 3, 'min_samples_split': 10} => Accuracy: 0.8278\n",
      "Parameters: {'max_depth': 30, 'max_features': 'log2', 'min_samples_leaf': 3, 'min_samples_split': 15} => Accuracy: 0.8314\n",
      "Parameters: {'max_depth': 30, 'max_features': 'log2', 'min_samples_leaf': 5, 'min_samples_split': 5} => Accuracy: 0.8264\n",
      "Parameters: {'max_depth': 30, 'max_features': 'log2', 'min_samples_leaf': 5, 'min_samples_split': 10} => Accuracy: 0.8264\n",
      "Parameters: {'max_depth': 30, 'max_features': 'log2', 'min_samples_leaf': 5, 'min_samples_split': 15} => Accuracy: 0.8234\n",
      "Parameters: {'max_depth': 30, 'max_features': None, 'min_samples_leaf': 1, 'min_samples_split': 5} => Accuracy: 0.8546\n",
      "Parameters: {'max_depth': 30, 'max_features': None, 'min_samples_leaf': 1, 'min_samples_split': 10} => Accuracy: 0.8534\n",
      "Parameters: {'max_depth': 30, 'max_features': None, 'min_samples_leaf': 1, 'min_samples_split': 15} => Accuracy: 0.8520\n",
      "Parameters: {'max_depth': 30, 'max_features': None, 'min_samples_leaf': 3, 'min_samples_split': 5} => Accuracy: 0.8517\n",
      "Parameters: {'max_depth': 30, 'max_features': None, 'min_samples_leaf': 3, 'min_samples_split': 10} => Accuracy: 0.8507\n",
      "Parameters: {'max_depth': 30, 'max_features': None, 'min_samples_leaf': 3, 'min_samples_split': 15} => Accuracy: 0.8494\n",
      "Parameters: {'max_depth': 30, 'max_features': None, 'min_samples_leaf': 5, 'min_samples_split': 5} => Accuracy: 0.8487\n",
      "Parameters: {'max_depth': 30, 'max_features': None, 'min_samples_leaf': 5, 'min_samples_split': 10} => Accuracy: 0.8487\n",
      "Parameters: {'max_depth': 30, 'max_features': None, 'min_samples_leaf': 5, 'min_samples_split': 15} => Accuracy: 0.8496\n",
      "Best parameters found: {'max_depth': 20, 'max_features': None, 'min_samples_leaf': 1, 'min_samples_split': 5}\n",
      "Best Accuracy: 0.8598\n"
     ]
    }
   ],
   "source": [
    "# using grid search\n",
    "param_grid = {\n",
    "    'max_depth': [15, 20, 25, 30],  \n",
    "    'min_samples_split': [5, 10, 15],  \n",
    "    'min_samples_leaf': [1, 3, 5], \n",
    "    'max_features': ['sqrt', 'log2', None]\n",
    "}\n",
    "\n",
    "decision_tree = DecisionTreeClassifier(random_state=42)\n",
    "\n",
    "grid_search = GridSearchCV(estimator=decision_tree, param_grid=param_grid, \n",
    "                           cv=5, n_jobs=-1, scoring='accuracy', return_train_score=True)\n",
    "\n",
    "start_time = time.time()\n",
    "grid_search.fit(X_train_res, y_train_res)\n",
    "end_time = time.time()\n",
    "elapsed_time = end_time - start_time\n",
    "print(f\"Training completed in {elapsed_time:.2f} seconds.\")\n",
    "\n",
    "results = grid_search.cv_results_\n",
    "\n",
    "for mean_score, params in zip(results['mean_test_score'], results['params']):\n",
    "    print(f\"Parameters: {params} => Accuracy: {mean_score:.4f}\")\n",
    "print(\"Best parameters found:\", grid_search.best_params_)\n",
    "print(f\"Best Accuracy: {grid_search.best_score_:.4f}\")"
   ]
  },
  {
   "cell_type": "code",
   "execution_count": 6,
   "id": "6545463d",
   "metadata": {},
   "outputs": [
    {
     "name": "stdout",
     "output_type": "stream",
     "text": [
      "Accuracy: 0.814937657392052\n",
      "Classification Report:\n",
      "              precision    recall  f1-score   support\n",
      "\n",
      "           0       0.91      0.84      0.87     12435\n",
      "           1       0.58      0.75      0.66      3846\n",
      "\n",
      "    accuracy                           0.81     16281\n",
      "   macro avg       0.75      0.79      0.76     16281\n",
      "weighted avg       0.84      0.81      0.82     16281\n",
      "\n"
     ]
    }
   ],
   "source": [
    "best_model1 = grid_search.best_estimator_\n",
    "y_pred1 = best_model1.predict(X_test_preprocessed)\n",
    "\n",
    "print(\"Accuracy:\", accuracy_score(y_test, y_pred1))\n",
    "print(\"Classification Report:\")\n",
    "print(classification_report(y_test, y_pred1))"
   ]
  },
  {
   "cell_type": "markdown",
   "id": "3353fb42",
   "metadata": {},
   "source": [
    "## random forest"
   ]
  },
  {
   "cell_type": "code",
   "execution_count": 7,
   "id": "1034c034",
   "metadata": {},
   "outputs": [
    {
     "name": "stdout",
     "output_type": "stream",
     "text": [
      "Training completed in 240.99 seconds.\n",
      "Parameters: {'max_depth': 11, 'max_features': 'sqrt', 'min_samples_leaf': 8, 'min_samples_split': 20, 'n_estimators': 121} => Accuracy: 0.8454\n",
      "Parameters: {'max_depth': 17, 'max_features': 'sqrt', 'min_samples_leaf': 8, 'min_samples_split': 28, 'n_estimators': 124} => Accuracy: 0.8524\n",
      "Parameters: {'max_depth': 15, 'max_features': 'sqrt', 'min_samples_leaf': 5, 'min_samples_split': 17, 'n_estimators': 180} => Accuracy: 0.8534\n",
      "Parameters: {'max_depth': 10, 'max_features': 'sqrt', 'min_samples_leaf': 3, 'min_samples_split': 21, 'n_estimators': 87} => Accuracy: 0.8421\n",
      "Parameters: {'max_depth': 6, 'max_features': 'sqrt', 'min_samples_leaf': 2, 'min_samples_split': 21, 'n_estimators': 107} => Accuracy: 0.8125\n",
      "Parameters: {'max_depth': 10, 'max_features': 'sqrt', 'min_samples_leaf': 5, 'min_samples_split': 26, 'n_estimators': 108} => Accuracy: 0.8414\n",
      "Parameters: {'max_depth': 19, 'max_features': 'log2', 'min_samples_leaf': 9, 'min_samples_split': 25, 'n_estimators': 64} => Accuracy: 0.8476\n",
      "Parameters: {'max_depth': 18, 'max_features': 'log2', 'min_samples_leaf': 8, 'min_samples_split': 28, 'n_estimators': 157} => Accuracy: 0.8471\n",
      "Parameters: {'max_depth': 11, 'max_features': 'sqrt', 'min_samples_leaf': 4, 'min_samples_split': 14, 'n_estimators': 100} => Accuracy: 0.8470\n",
      "Parameters: {'max_depth': 11, 'max_features': 'sqrt', 'min_samples_leaf': 2, 'min_samples_split': 16, 'n_estimators': 67} => Accuracy: 0.8474\n",
      "Parameters: {'max_depth': 8, 'max_features': 'sqrt', 'min_samples_leaf': 5, 'min_samples_split': 23, 'n_estimators': 58} => Accuracy: 0.8277\n",
      "Parameters: {'max_depth': 14, 'max_features': 'sqrt', 'min_samples_leaf': 3, 'min_samples_split': 29, 'n_estimators': 141} => Accuracy: 0.8537\n",
      "Parameters: {'max_depth': 19, 'max_features': None, 'min_samples_leaf': 5, 'min_samples_split': 17, 'n_estimators': 84} => Accuracy: 0.8668\n",
      "Parameters: {'max_depth': 18, 'max_features': 'sqrt', 'min_samples_leaf': 5, 'min_samples_split': 27, 'n_estimators': 153} => Accuracy: 0.8555\n",
      "Parameters: {'max_depth': 8, 'max_features': 'log2', 'min_samples_leaf': 7, 'min_samples_split': 15, 'n_estimators': 103} => Accuracy: 0.8221\n",
      "Parameters: {'max_depth': 14, 'max_features': 'log2', 'min_samples_leaf': 6, 'min_samples_split': 27, 'n_estimators': 93} => Accuracy: 0.8438\n",
      "Parameters: {'max_depth': 6, 'max_features': 'log2', 'min_samples_leaf': 7, 'min_samples_split': 13, 'n_estimators': 63} => Accuracy: 0.8124\n",
      "Parameters: {'max_depth': 19, 'max_features': None, 'min_samples_leaf': 9, 'min_samples_split': 23, 'n_estimators': 89} => Accuracy: 0.8598\n",
      "Parameters: {'max_depth': 9, 'max_features': 'sqrt', 'min_samples_leaf': 3, 'min_samples_split': 24, 'n_estimators': 102} => Accuracy: 0.8367\n",
      "Parameters: {'max_depth': 12, 'max_features': 'log2', 'min_samples_leaf': 2, 'min_samples_split': 22, 'n_estimators': 90} => Accuracy: 0.8427\n",
      "Best parameters found: {'max_depth': 19, 'max_features': None, 'min_samples_leaf': 5, 'min_samples_split': 17, 'n_estimators': 84}\n",
      "Best Accuracy: 0.8668\n"
     ]
    }
   ],
   "source": [
    "# Using randomized search\n",
    "param_dist = {\n",
    "    'n_estimators': randint(50, 200),  \n",
    "    'max_depth': randint(5, 20),  \n",
    "    'min_samples_split': randint(10, 30), \n",
    "    'min_samples_leaf': randint(2, 10), \n",
    "    'max_features': ['sqrt', 'log2', None] \n",
    "}\n",
    "\n",
    "random_forest = RandomForestClassifier(random_state=42)\n",
    "\n",
    "random_search = RandomizedSearchCV(estimator=random_forest, param_distributions=param_dist, \n",
    "                                   n_iter=20, cv=3, n_jobs=-1, random_state=42, scoring='accuracy')\n",
    "\n",
    "start_time = time.time()\n",
    "random_search.fit(X_train_res, y_train_res)\n",
    "end_time = time.time()\n",
    "elapsed_time = end_time - start_time\n",
    "print(f\"Training completed in {elapsed_time:.2f} seconds.\")\n",
    "\n",
    "results = random_search.cv_results_\n",
    "for mean_score, params in zip(results['mean_test_score'], results['params']):\n",
    "    print(f\"Parameters: {params} => Accuracy: {mean_score:.4f}\")\n",
    "print(\"Best parameters found:\", random_search.best_params_)\n",
    "print(f\"Best Accuracy: {random_search.best_score_:.4f}\")"
   ]
  },
  {
   "cell_type": "code",
   "execution_count": 8,
   "id": "3b13d673",
   "metadata": {},
   "outputs": [
    {
     "name": "stdout",
     "output_type": "stream",
     "text": [
      "Accuracy: 0.8359437380996253\n",
      "Classification Report:\n",
      "              precision    recall  f1-score   support\n",
      "\n",
      "           0       0.92      0.86      0.89     12435\n",
      "           1       0.62      0.77      0.69      3846\n",
      "\n",
      "    accuracy                           0.84     16281\n",
      "   macro avg       0.77      0.81      0.79     16281\n",
      "weighted avg       0.85      0.84      0.84     16281\n",
      "\n"
     ]
    }
   ],
   "source": [
    "best_model2 = random_search.best_estimator_\n",
    "y_pred2 = best_model2.predict(X_test_preprocessed)\n",
    "\n",
    "print(\"Accuracy:\", accuracy_score(y_test, y_pred2))\n",
    "print(\"Classification Report:\")\n",
    "print(classification_report(y_test, y_pred2))"
   ]
  },
  {
   "cell_type": "markdown",
   "id": "25a672f2",
   "metadata": {},
   "source": [
    "## Model performance comparison"
   ]
  },
  {
   "cell_type": "code",
   "execution_count": 9,
   "id": "3139d2c3",
   "metadata": {},
   "outputs": [
    {
     "data": {
      "image/png": "[encoded data removed]",
      "text/plain": [
       "<Figure size 1000x600 with 1 Axes>"
      ]
     },
     "metadata": {},
     "output_type": "display_data"
    },
    {
     "name": "stdout",
     "output_type": "stream",
     "text": [
      "      Metric  Decision Tree  Random Forest\n",
      "0   Accuracy       0.814938       0.835944\n",
      "1        AUC       0.820773       0.908246\n",
      "2   Log Loss       2.881557       0.353370\n",
      "3  Precision       0.584603       0.624233\n",
      "4         F1       0.656403       0.688513\n"
     ]
    }
   ],
   "source": [
    "import matplotlib.pyplot as plt\n",
    "import pandas as pd\n",
    "from sklearn.metrics import roc_curve, auc, accuracy_score, classification_report, log_loss, precision_recall_fscore_support\n",
    "\n",
    "y_pred_prob_tree = best_model1.predict_proba(X_test_preprocessed)[:, 1]\n",
    "fpr_tree, tpr_tree, _ = roc_curve(y_test, y_pred_prob_tree)\n",
    "auc_tree = auc(fpr_tree, tpr_tree)\n",
    "accuracy_tree = accuracy_score(y_test, y_pred1)\n",
    "logloss_tree = log_loss(y_test, y_pred_prob_tree)\n",
    "precision_tree, recall_tree, f1_tree, _ = precision_recall_fscore_support(y_test, y_pred1, average='binary')\n",
    "\n",
    "y_pred_prob_forest = best_model2.predict_proba(X_test_preprocessed)[:, 1]\n",
    "fpr_forest, tpr_forest, _ = roc_curve(y_test, y_pred_prob_forest)\n",
    "auc_forest = auc(fpr_forest, tpr_forest)\n",
    "accuracy_forest = accuracy_score(y_test, y_pred2)\n",
    "logloss_forest = log_loss(y_test, y_pred_prob_forest)\n",
    "precision_forest, recall_forest, f1_forest, _ = precision_recall_fscore_support(y_test, y_pred2, average='binary')\n",
    "\n",
    "plt.figure(figsize=(10, 6))\n",
    "plt.plot(fpr_tree, tpr_tree, label=f'Decision Tree (AUC = {auc_tree:.3f})', color='blue')\n",
    "plt.plot(fpr_forest, tpr_forest, label=f'Random Forest (AUC = {auc_forest:.3f})', color='green')\n",
    "plt.plot([0, 1], [0, 1], color='gray', linestyle='--')  \n",
    "plt.xlim([0.0, 1.0])\n",
    "plt.ylim([0.0, 1.05])\n",
    "plt.xlabel('False Positive Rate')\n",
    "plt.ylabel('True Positive Rate')\n",
    "plt.title('ROC Curve Comparison')\n",
    "plt.legend(loc='lower right')\n",
    "plt.grid(True)\n",
    "plt.show()\n",
    "\n",
    "results_df = pd.DataFrame({\n",
    "    'Metric': ['Accuracy', 'AUC', 'Log Loss', 'Precision', 'F1'],\n",
    "    'Decision Tree': [accuracy_tree, auc_tree, logloss_tree, precision_tree, f1_tree],\n",
    "    'Random Forest': [accuracy_forest, auc_forest, logloss_forest, precision_forest, f1_forest]\n",
    "})\n",
    "print(results_df)"
   ]
  },
  {
   "cell_type": "code",
   "execution_count": null,
   "id": "10880f08",
   "metadata": {},
   "outputs": [],
   "source": []
  }
 ],
 "metadata": {
  "kernelspec": {
   "display_name": "Python 3 (ipykernel)",
   "language": "python",
   "name": "python3"
  },
  "language_info": {
   "codemirror_mode": {
    "name": "ipython",
    "version": 3
   },
   "file_extension": ".py",
   "mimetype": "text/x-python",
   "name": "python",
   "nbconvert_exporter": "python",
   "pygments_lexer": "ipython3",
   "version": "3.9.13"
  }
 },
 "nbformat": 4,
 "nbformat_minor": 5
}
